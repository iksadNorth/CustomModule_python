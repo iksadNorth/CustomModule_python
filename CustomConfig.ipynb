{
 "cells": [
  {
   "cell_type": "code",
   "execution_count": 1,
   "metadata": {},
   "outputs": [],
   "source": [
    "class CustomConfig:\n",
    "    \"\"\"클래스의 설정값을 따로 관리하기 위해 만든 클래스.\n",
    "    클래스의 설정값을 일괄적으로 대입시키기 위한 __call__함수를 정의하고\n",
    "    클래스의 설정값을 확인하기 쉽게 __repr__함수를 정의하였다.\n",
    "    단, private한 변수는 확인할 수 없다.\n",
    "    보통 이 클래스를 상속해서 사용하는 것을 권장한다. 그대로 사용해도 무방하긴 하다.\n",
    "    \"\"\"\n",
    "    \n",
    "    def __init__(self, **kargs) -> None:\n",
    "        self.ignore = []\n",
    "        self.set(**kargs)\n",
    "    \n",
    "    def __call__(self, **kargs):\n",
    "        \"\"\".set() 메서드의 설명을 참고하길 바란다.\n",
    "        \"\"\"\n",
    "        self.set(**kargs)\n",
    "    \n",
    "    def set(self, **kargs):\n",
    "        \"\"\"예를 들어, \n",
    "        \".set(a=7, b=8)\"\n",
    "        라고 함수를 호출했을 때, 입력한 변수대로 값을 대입해준다.\n",
    "        \"\"\"\n",
    "        for name, value in kargs.items():\n",
    "            setattr(self, name, value)\n",
    "            \n",
    "    def __repr__(self) -> str:\n",
    "        \"\"\"해당 클래스에 속한 변수명, 변수값을 출력함.\n",
    "\n",
    "        Returns:\n",
    "            str: [(변수명 = 변수값) 형태로 출력]\n",
    "        \"\"\"\n",
    "        \n",
    "        str_direction = 'This is consisted of :'\n",
    "        for var, val in self.directions():\n",
    "            str_direction += f'\\n\\t{var} = /{val if (val is not None) else \"Null\"}/'\n",
    "        \n",
    "        return str_direction\n",
    "    \n",
    "    def directions(self):\n",
    "        \"\"\"\n",
    "        해당 클래스의 변수들을 (변수명, 변수값)의 형태로 yield 한다.\n",
    "        단, \"_\"와 \"__\"로 시작하거나 \"ignore\"라는 리스트에 속한 변수는 제외를 시켜 출력한다.\n",
    "\n",
    "        Yields:\n",
    "            [(변수명:str, 변수값:object) : tuple]: [(클래스 내의 변수명, 위 변수의 변수값)]\n",
    "        \"\"\"\n",
    "        \n",
    "        for str_var, value in self.__dict__.items():\n",
    "            if str_var.startswith((\"_\", \"__\")):\n",
    "                pass\n",
    "            elif str_var in self.ignore:\n",
    "                pass\n",
    "            elif str_var == 'ignore':\n",
    "                pass\n",
    "            else:\n",
    "                yield (str_var, value)\n"
   ]
  },
  {
   "cell_type": "code",
   "execution_count": 2,
   "metadata": {},
   "outputs": [
    {
     "name": "stdout",
     "output_type": "stream",
     "text": [
      "This is consisted of :\n",
      "\ta = 1\n",
      "\tb = 2\n",
      "\tc = 3\n",
      "This is consisted of :\n",
      "\ta = 2\n",
      "\tb = 2\n",
      "\tc = 3\n",
      "This is consisted of :\n",
      "\ta = 2\n",
      "\tc = 3\n",
      "This is consisted of :\n",
      "\ta = 2\n",
      "\tc = 3\n",
      "7\n",
      "This is consisted of :\n",
      "\ta = 2\n",
      "\tc = 3\n",
      "8\n"
     ]
    }
   ],
   "source": [
    "if __name__ == \"__main__\":\n",
    "    cfg = CustomConfig()\n",
    "    \n",
    "    cfg(a=1, b=2, c=3)\n",
    "    print(cfg)\n",
    "    \n",
    "    cfg(a=2)\n",
    "    print(cfg)\n",
    "    \n",
    "    cfg.ignore.append(\"b\")\n",
    "    print(cfg)\n",
    "    \n",
    "    cfg(_m=7)\n",
    "    print(cfg)\n",
    "    print(cfg._m)\n",
    "    \n",
    "    cfg(_m=8)\n",
    "    print(cfg)\n",
    "    print(cfg._m)"
   ]
  },
  {
   "cell_type": "code",
   "execution_count": 3,
   "metadata": {},
   "outputs": [
    {
     "name": "stdout",
     "output_type": "stream",
     "text": [
      "This is consisted of :\n",
      "\ta = 2\n",
      "\tb = 2\n",
      "\tc = 3\n",
      "This is consisted of :\n",
      "\ta = 2\n",
      "\tb = 2\n"
     ]
    }
   ],
   "source": [
    "if __name__ == '__main__':\n",
    "    cfg.ignore.clear()\n",
    "    print(cfg)\n",
    "    \n",
    "    del cfg.c\n",
    "    print(cfg)"
   ]
  },
  {
   "cell_type": "code",
   "execution_count": null,
   "metadata": {},
   "outputs": [],
   "source": []
  }
 ],
 "metadata": {
  "interpreter": {
   "hash": "f3b06381122cf56d6842c483a3abfff065ebee19dddc9820e2ff5247bbce5bce"
  },
  "kernelspec": {
   "display_name": "Python 3.9.7 64-bit ('jupyter': conda)",
   "language": "python",
   "name": "python3"
  },
  "language_info": {
   "codemirror_mode": {
    "name": "ipython",
    "version": 3
   },
   "file_extension": ".py",
   "mimetype": "text/x-python",
   "name": "python",
   "nbconvert_exporter": "python",
   "pygments_lexer": "ipython3",
   "version": "3.9.7"
  },
  "orig_nbformat": 4
 },
 "nbformat": 4,
 "nbformat_minor": 2
}
